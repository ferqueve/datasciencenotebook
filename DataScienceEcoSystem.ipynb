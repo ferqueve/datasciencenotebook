{
 "cells": [
  {
   "cell_type": "markdown",
   "id": "d6cddb5b-7690-4f8e-91b2-0053ac1574a1",
   "metadata": {},
   "source": [
    "# Data Science Tools and Ecosystem"
   ]
  },
  {
   "cell_type": "markdown",
   "id": "bc40fb86-c1fb-4ac7-8e10-0e91aac7b03c",
   "metadata": {},
   "source": [
    "In this notebook, Data Science Tools and Ecosystem are summarized."
   ]
  },
  {
   "cell_type": "markdown",
   "id": "fcbe19d9-7845-4e6e-accc-015d68442bbf",
   "metadata": {},
   "source": [
    "\n",
    "**Objectives:**\n",
    "- List popular languages for Data Science\n",
    "- Describe the importance of libraries in Data Science\n",
    "- Demonstrate how to create and use Markdown cells in Jupyter Notebooks\n",
    "- Illustrate simple arithmetic operations in Python\n",
    "- Convert time measurements from minutes to hours\n",
    "## Author\n",
    "Fernando Quevedo"
   ]
  },
  {
   "cell_type": "markdown",
   "id": "2ca0d087-61b6-4b0a-a2d4-2d1671f92645",
   "metadata": {},
   "source": [
    "Some of the popular languages that Data Scientists use are:\n",
    "1. Python\n",
    "2. R\n",
    "3. SQL\n",
    "4. Julia"
   ]
  },
  {
   "cell_type": "markdown",
   "id": "16323f32-f631-44e4-90f1-dc516a66d720",
   "metadata": {},
   "source": [
    "Some of the commonly used libraries used by Data Scientists include:\n",
    "1. Pandas\n",
    "2. NumPy\n",
    "3. Matplotlib\n",
    "4. Scikit-learn\n"
   ]
  },
  {
   "cell_type": "markdown",
   "id": "e0d64d97-f08b-4f95-a75e-2d9322b4dd55",
   "metadata": {},
   "source": [
    "| Data Science Tools               |\r\n",
    "|----------------------------------|\r\n",
    "| Jupyter Notebook                 |\r\n",
    "| RStudio                          |\r\n",
    "| Apache Zeppelin               \n",
    "\n",
    "### Below are a few examples of evaluating arithmetic expressions in Python.\r\n",
    "   |\r\n"
   ]
  },
  {
   "cell_type": "code",
   "execution_count": 3,
   "id": "41f60795-dd4a-4c5f-ad4f-e29d56ef7e72",
   "metadata": {},
   "outputs": [
    {
     "data": {
      "text/plain": [
       "17"
      ]
     },
     "execution_count": 3,
     "metadata": {},
     "output_type": "execute_result"
    }
   ],
   "source": [
    "# Multiplico dos números y luego sumo otro.\n",
    "resultado = (3 * 4) + 5\n",
    "resultado\n"
   ]
  },
  {
   "cell_type": "code",
   "execution_count": 4,
   "id": "d7299350-d4aa-4a8f-b4d2-fcfe54f5fb6f",
   "metadata": {},
   "outputs": [
    {
     "data": {
      "text/plain": [
       "3.3333333333333335"
      ]
     },
     "execution_count": 4,
     "metadata": {},
     "output_type": "execute_result"
    }
   ],
   "source": [
    "# Convierto minutos a horas. Divido la cantidad de minutos (200) entre el número de minutos de una hora (60)\n",
    "horas = 200 / 60\n",
    "horas\n"
   ]
  },
  {
   "cell_type": "markdown",
   "id": "650f9d5a-1794-42fe-94a0-0f1f0e1fad71",
   "metadata": {},
   "source": [
    "## Author\r",
    "Fernando Quevedo\r\n"
   ]
  },
  {
   "cell_type": "code",
   "execution_count": null,
   "id": "6e9ff90c-3f18-42d7-a7df-7507c5e68092",
   "metadata": {},
   "outputs": [],
   "source": []
  }
 ],
 "metadata": {
  "kernelspec": {
   "display_name": "Python 3 (ipykernel)",
   "language": "python",
   "name": "python3"
  },
  "language_info": {
   "codemirror_mode": {
    "name": "ipython",
    "version": 3
   },
   "file_extension": ".py",
   "mimetype": "text/x-python",
   "name": "python",
   "nbconvert_exporter": "python",
   "pygments_lexer": "ipython3",
   "version": "3.11.7"
  }
 },
 "nbformat": 4,
 "nbformat_minor": 5
}
